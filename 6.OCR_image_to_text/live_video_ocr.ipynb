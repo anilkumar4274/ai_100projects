{
 "cells": [
  {
   "cell_type": "code",
   "execution_count": 1,
   "id": "3ade68ef",
   "metadata": {},
   "outputs": [],
   "source": [
    "import cv2\n",
    "import pytesseract\n",
    "import numpy as np\n",
    "from PIL import ImageGrab\n",
    "import time"
   ]
  },
  {
   "cell_type": "code",
   "execution_count": 10,
   "id": "63450681",
   "metadata": {},
   "outputs": [],
   "source": [
    "pytesseract.pytesseract.tesseract_cmd = 'C:\\Program Files\\Tesseract-OCR\\\\tesseract.exe'\n",
    "cap = cv2.VideoCapture(0)\n",
    "cap.set(3,640)\n",
    "cap.set(4,480)\n",
    "def capture(bbox=(300,300,1500,1000)):\n",
    "    capScr = np.array(ImageGrab.grab(bbox))\n",
    "    capScr = cv2.cvtColor(capScr, cv2.COLOR_RGB2BGR)\n",
    "    return capScr\n",
    "while True:\n",
    "    timer = cv2.getTickCount()\n",
    "    _,img = cap.read()\n",
    "    #img = capture()\n",
    "    #DETECTING CHARACTERES\n",
    "    height, width,_ = img.shape\n",
    "    boxes = pytesseract.image_to_boxes(img)\n",
    "    for b in boxes.splitlines():\n",
    "        #print(b)\n",
    "        b = b.split(' ')\n",
    "        #print(b)\n",
    "        x, y, w, h = int(b[1]), int(b[2]), int(b[3]), int(b[4])\n",
    "        cv2.rectangle(img, (x,height- y), (w,height- h), (50, 50, 255), 2)\n",
    "        cv2.putText(img,b[0],(x,height- y+25),cv2.FONT_HERSHEY_SIMPLEX,1,(50,50,255),2)\n",
    "    #fps = cv2.getTickFrequency() / (cv2.getTickCount() - timer);\n",
    "    #cv2.putText(img, str(int(fps)), (75, 40), cv2.FONT_HERSHEY_SIMPLEX, 0.7, (20,230,20), 2);\n",
    "    cv2.imshow(\"Result\",img)\n",
    "    if cv2.waitKey(1) & 0xFF == ord('q'):\n",
    "        break\n",
    "    \n",
    "cap.release()\n",
    "cv2.destroyAllWindows()"
   ]
  },
  {
   "cell_type": "code",
   "execution_count": null,
   "id": "65a703bf",
   "metadata": {},
   "outputs": [],
   "source": []
  },
  {
   "cell_type": "code",
   "execution_count": null,
   "id": "96d0a045",
   "metadata": {},
   "outputs": [],
   "source": []
  }
 ],
 "metadata": {
  "kernelspec": {
   "display_name": "Python 3",
   "language": "python",
   "name": "python3"
  },
  "language_info": {
   "codemirror_mode": {
    "name": "ipython",
    "version": 3
   },
   "file_extension": ".py",
   "mimetype": "text/x-python",
   "name": "python",
   "nbconvert_exporter": "python",
   "pygments_lexer": "ipython3",
   "version": "3.9.3"
  }
 },
 "nbformat": 4,
 "nbformat_minor": 5
}
